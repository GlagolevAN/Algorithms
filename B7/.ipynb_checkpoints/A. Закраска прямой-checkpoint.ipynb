{
 "cells": [
  {
   "cell_type": "code",
   "execution_count": 3,
   "id": "3823b2c0",
   "metadata": {},
   "outputs": [
    {
     "name": "stdout",
     "output_type": "stream",
     "text": [
      "30\n"
     ]
    }
   ],
   "source": [
    "with open('input.txt', 'r') as fin:\n",
    "    n = int(fin.readline())\n",
    "    arr = [0] * 2*n\n",
    "    for i in range(n):\n",
    "        l, r = list(map(int, fin.readline().split()))\n",
    "        arr[2 * i], arr[2 * i + 1] = (l, -1), (r, 1)\n",
    "    \n",
    "    arr.sort()\n",
    "    length = 0\n",
    "    covered_cnt = 0\n",
    "    \n",
    "    for i in range(2*n):\n",
    "        if covered_cnt > 0:\n",
    "            length += (arr[i][0] - arr[i - 1][0])\n",
    "        \n",
    "        if arr[i][1] == -1:\n",
    "            covered_cnt += 1\n",
    "        else:\n",
    "            covered_cnt -= 1\n",
    "    print(length)"
   ]
  },
  {
   "cell_type": "code",
   "execution_count": null,
   "id": "fc44068f",
   "metadata": {},
   "outputs": [],
   "source": []
  }
 ],
 "metadata": {
  "kernelspec": {
   "display_name": "Python 3 (ipykernel)",
   "language": "python",
   "name": "python3"
  },
  "language_info": {
   "codemirror_mode": {
    "name": "ipython",
    "version": 3
   },
   "file_extension": ".py",
   "mimetype": "text/x-python",
   "name": "python",
   "nbconvert_exporter": "python",
   "pygments_lexer": "ipython3",
   "version": "3.8.10"
  }
 },
 "nbformat": 4,
 "nbformat_minor": 5
}
