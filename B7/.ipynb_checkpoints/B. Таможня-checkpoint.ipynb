{
 "cells": [
  {
   "cell_type": "code",
   "execution_count": 7,
   "id": "332fff10",
   "metadata": {},
   "outputs": [
    {
     "name": "stdout",
     "output_type": "stream",
     "text": [
      "[(3, 1), (4, 1), (5, -1), (5, 1), (6, -1), (7, -1)]\n",
      "2\n"
     ]
    }
   ],
   "source": [
    "with open('input.txt', 'r') as fin:\n",
    "    n = int(fin.readline())\n",
    "    arr = [0] * 2*n\n",
    "    for i in range(n):\n",
    "        l, r = list(map(int, fin.readline().split()))\n",
    "        arr[2 * i], arr[2 * i + 1] = (l, 1), (l + r, -1)\n",
    "    \n",
    "    arr.sort()\n",
    "    max_cnt = 0\n",
    "    covered_cnt = 0\n",
    "    \n",
    "    for i in range(2*n):       \n",
    "        if arr[i][1] == 1:\n",
    "            covered_cnt += 1\n",
    "        else:\n",
    "            covered_cnt -= 1\n",
    "        max_cnt = max(max_cnt, covered_cnt)\n",
    "    print(max_cnt)"
   ]
  }
 ],
 "metadata": {
  "kernelspec": {
   "display_name": "Python 3 (ipykernel)",
   "language": "python",
   "name": "python3"
  },
  "language_info": {
   "codemirror_mode": {
    "name": "ipython",
    "version": 3
   },
   "file_extension": ".py",
   "mimetype": "text/x-python",
   "name": "python",
   "nbconvert_exporter": "python",
   "pygments_lexer": "ipython3",
   "version": "3.8.10"
  }
 },
 "nbformat": 4,
 "nbformat_minor": 5
}
