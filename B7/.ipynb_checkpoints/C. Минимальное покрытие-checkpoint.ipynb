{
 "cells": [
  {
   "cell_type": "code",
   "execution_count": 22,
   "id": "332fff10",
   "metadata": {},
   "outputs": [
    {
     "name": "stdout",
     "output_type": "stream",
     "text": [
      "[(-5, 1), (-3, -1), (-1, 1), (0, -1), (0, -1), (0, 1), (2, 1), (5, -1)]\n"
     ]
    }
   ],
   "source": [
    "def mincov(arr):\n",
    "    covered = 0\n",
    "\n",
    "with open('input.txt', 'r') as fin:\n",
    "    M = int(fin.readline())\n",
    "\n",
    "    l, r = 1, 1\n",
    "    arr = []\n",
    "    while l != 0 or r != 0:\n",
    "        l, r = list(map(int, fin.readline().split()))\n",
    "        arr.append((l, 1))\n",
    "        arr.append((r, -1))\n",
    "        \n",
    "    arr.sort()\n",
    "    \n",
    "    print(arr)"
   ]
  },
  {
   "cell_type": "code",
   "execution_count": null,
   "id": "f623f630",
   "metadata": {},
   "outputs": [],
   "source": []
  }
 ],
 "metadata": {
  "kernelspec": {
   "display_name": "Python 3 (ipykernel)",
   "language": "python",
   "name": "python3"
  },
  "language_info": {
   "codemirror_mode": {
    "name": "ipython",
    "version": 3
   },
   "file_extension": ".py",
   "mimetype": "text/x-python",
   "name": "python",
   "nbconvert_exporter": "python",
   "pygments_lexer": "ipython3",
   "version": "3.8.10"
  }
 },
 "nbformat": 4,
 "nbformat_minor": 5
}
