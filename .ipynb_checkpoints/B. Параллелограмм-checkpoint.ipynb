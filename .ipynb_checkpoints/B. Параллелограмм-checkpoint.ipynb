{
 "cells": [
  {
   "cell_type": "code",
   "execution_count": 25,
   "id": "332fff10",
   "metadata": {},
   "outputs": [
    {
     "name": "stdout",
     "output_type": "stream",
     "text": [
      "1\n",
      "0 0 1 1 2 4 10 12\n",
      "NO\n"
     ]
    }
   ],
   "source": [
    "N = int(input())\n",
    "\n",
    "def solve(final_ans):\n",
    "    raw_data = list(map(int, input().split()))\n",
    "    data = []\n",
    "    for i in range(0, 7, 2):\n",
    "        data.append((raw_data[i], raw_data[i+1]))\n",
    "    \n",
    "    data = sorted(data)\n",
    "    \n",
    "    xd1 = data[1][0] - data[0][0]; yd1 = data[1][1] - data[0][1];\n",
    "    xd2 = data[3][0] - data[2][0]; yd2 = data[3][1] - data[2][1];\n",
    "    \n",
    "    if (xd1 == 0):\n",
    "        if (xd2 != 0):\n",
    "            final_ans.append('NO')\n",
    "            return\n",
    "        if (abs(yd1) == abs(yd2)):\n",
    "            final_ans.append('YES')\n",
    "            return\n",
    "        final_ans.append('NO')\n",
    "        return\n",
    "    \n",
    "    #xd1 != 0\n",
    "    \n",
    "    if (xd2 == 0):\n",
    "        final_ans.append('NO')\n",
    "        return;\n",
    "    \n",
    "    if (yd1 / xd1 != yd2 / xd2):\n",
    "        final_ans.append('NO')\n",
    "        return;\n",
    "    \n",
    "    if (abs(yd1) == abs(yd2)):\n",
    "        final_ans.append('YES')\n",
    "        return\n",
    "    final_ans.append('NO')\n",
    "    return    \n",
    "\n",
    "\n",
    "final_ans = []\n",
    "for _ in range(N):    \n",
    "    solve(final_ans)\n",
    "    \n",
    "for elem in final_ans:\n",
    "    print(elem)"
   ]
  },
  {
   "cell_type": "code",
   "execution_count": 15,
   "id": "cde0904e",
   "metadata": {},
   "outputs": [
    {
     "name": "stdout",
     "output_type": "stream",
     "text": [
      "-0.12000000000000455\n"
     ]
    },
    {
     "data": {
      "text/plain": [
       "-101"
      ]
     },
     "execution_count": 15,
     "metadata": {},
     "output_type": "execute_result"
    }
   ],
   "source": [
    "x  = 100.88\n",
    "\n",
    "print(x - round(x, 0))\n",
    "\n",
    "int(-round(x,0))"
   ]
  }
 ],
 "metadata": {
  "kernelspec": {
   "display_name": "Python 3",
   "language": "python",
   "name": "python3"
  },
  "language_info": {
   "codemirror_mode": {
    "name": "ipython",
    "version": 3
   },
   "file_extension": ".py",
   "mimetype": "text/x-python",
   "name": "python",
   "nbconvert_exporter": "python",
   "pygments_lexer": "ipython3",
   "version": "3.8.10"
  }
 },
 "nbformat": 4,
 "nbformat_minor": 5
}
