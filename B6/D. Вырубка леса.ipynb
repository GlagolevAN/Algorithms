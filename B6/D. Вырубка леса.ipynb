{
 "cells": [
  {
   "cell_type": "code",
   "execution_count": 46,
   "id": "332fff10",
   "metadata": {},
   "outputs": [
    {
     "name": "stdout",
     "output_type": "stream",
     "text": [
      "9\n"
     ]
    }
   ],
   "source": [
    "def trees_cut(days):\n",
    "    return a * (days - days // k) + b * (days - days // m)\n",
    "\n",
    "with open('input.txt', 'r') as fin:\n",
    "    a, k, b, m, x = list(map(int, fin.readline().split()))\n",
    "    \n",
    "    l, r = 1, int(1e18)\n",
    "    \n",
    "    while l < r:\n",
    "        mid = (l + r) // 2\n",
    "        if trees_cut(mid) >= x:\n",
    "            r = mid\n",
    "        else:\n",
    "            l = mid + 1\n",
    "        #print(l)\n",
    "    \n",
    "    if (trees_cut(l) >= x):\n",
    "        print(l)\n",
    "    else:\n",
    "        print(l + 1)"
   ]
  }
 ],
 "metadata": {
  "kernelspec": {
   "display_name": "Python 3 (ipykernel)",
   "language": "python",
   "name": "python3"
  },
  "language_info": {
   "codemirror_mode": {
    "name": "ipython",
    "version": 3
   },
   "file_extension": ".py",
   "mimetype": "text/x-python",
   "name": "python",
   "nbconvert_exporter": "python",
   "pygments_lexer": "ipython3",
   "version": "3.8.10"
  }
 },
 "nbformat": 4,
 "nbformat_minor": 5
}
