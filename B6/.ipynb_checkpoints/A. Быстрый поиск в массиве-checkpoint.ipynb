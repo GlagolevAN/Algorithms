{
 "cells": [
  {
   "cell_type": "code",
   "execution_count": 45,
   "id": "3823b2c0",
   "metadata": {},
   "outputs": [
    {
     "name": "stdout",
     "output_type": "stream",
     "text": [
      "5 2 2 0\n"
     ]
    }
   ],
   "source": [
    "def bin_search_l(a, value):\n",
    "    left, right = -1, len(a) # a[left] <= value < a[right]\n",
    "    while right - left > 1:\n",
    "        mid = (left + right) // 2\n",
    "        if a[mid] < value:\n",
    "            left = mid\n",
    "        else: \n",
    "            right = mid\n",
    "\n",
    "    return left\n",
    "\n",
    "def bin_search_r(a, value):\n",
    "    left, right = -1, len(a) # a[left] < value <= a[right]\n",
    "    while right - left > 1:\n",
    "        mid = (left + right) // 2\n",
    "        if a[mid] > value:\n",
    "            right = mid\n",
    "        else: \n",
    "            left = mid\n",
    "\n",
    "    return left\n",
    "\n",
    "with open('input.txt', 'r') as fin:\n",
    "    n = int(fin.readline())\n",
    "    a = sorted(list(map(int, fin.readline().split())))\n",
    "    k = int(fin.readline())\n",
    "    #print(a)\n",
    "    ans = []\n",
    "    for _ in range(k):\n",
    "        l, r = list(map(int, fin.readline().split()))\n",
    "        \n",
    "        ans.append(bin_search_r(a, r) - bin_search_l(a, l))\n",
    "        #print(bin_search_r(a, r), bin_search_l(a, l))\n",
    "    print(*ans)"
   ]
  },
  {
   "cell_type": "code",
   "execution_count": null,
   "id": "fc44068f",
   "metadata": {},
   "outputs": [],
   "source": []
  }
 ],
 "metadata": {
  "kernelspec": {
   "display_name": "Python 3 (ipykernel)",
   "language": "python",
   "name": "python3"
  },
  "language_info": {
   "codemirror_mode": {
    "name": "ipython",
    "version": 3
   },
   "file_extension": ".py",
   "mimetype": "text/x-python",
   "name": "python",
   "nbconvert_exporter": "python",
   "pygments_lexer": "ipython3",
   "version": "3.8.10"
  }
 },
 "nbformat": 4,
 "nbformat_minor": 5
}
