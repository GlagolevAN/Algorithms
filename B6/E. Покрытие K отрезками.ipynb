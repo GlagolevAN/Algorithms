{
 "cells": [
  {
   "cell_type": "code",
   "execution_count": 27,
   "id": "332fff10",
   "metadata": {},
   "outputs": [
    {
     "name": "stdout",
     "output_type": "stream",
     "text": [
      "2\n"
     ]
    }
   ],
   "source": [
    "def checkcovered(mid):\n",
    "    left_el = a[0]\n",
    "    counter = 1\n",
    "    for elem in a[1:]:\n",
    "        if elem - left_el > mid:\n",
    "            counter += 1\n",
    "            left_el = elem\n",
    "    \n",
    "    #print(counter)\n",
    "    if counter <= k:\n",
    "        return True\n",
    "    else:\n",
    "        return False\n",
    "\n",
    "with open(\"input.txt\", 'r', encoding = 'utf-8') as fin:\n",
    "    n, k = list(map(int, fin.readline().split()))\n",
    "    a = sorted(list(map(int, fin.readline().split())))\n",
    "    #print(a)\n",
    "    \n",
    "    l, r = 0, int(1e18)\n",
    "    while l < r:\n",
    "        mid = (l + r) // 2\n",
    "        if checkcovred(mid):\n",
    "            r = mid\n",
    "        else:\n",
    "            l = mid + 1\n",
    "            \n",
    "        #print(l, r)\n",
    "    \n",
    "    print(l if checkcovered(l) else l+1)"
   ]
  },
  {
   "cell_type": "code",
   "execution_count": 23,
   "id": "dedbdd92",
   "metadata": {},
   "outputs": [
    {
     "name": "stdout",
     "output_type": "stream",
     "text": [
      "-999979346 999988480\n",
      "-631922988 -631922988\n",
      "-526651450 -526651450\n",
      "-8527038 -8527038\n",
      "103584878 103584878\n",
      "423781852 423781852\n",
      "880541764 880541764\n",
      "925701156 925701156\n"
     ]
    }
   ],
   "source": [
    "for i in range(len(a)-1):\n",
    "    if a[i] - a[i-1] <= 1:\n",
    "        print(a[i], a[i-1])"
   ]
  }
 ],
 "metadata": {
  "kernelspec": {
   "display_name": "Python 3 (ipykernel)",
   "language": "python",
   "name": "python3"
  },
  "language_info": {
   "codemirror_mode": {
    "name": "ipython",
    "version": 3
   },
   "file_extension": ".py",
   "mimetype": "text/x-python",
   "name": "python",
   "nbconvert_exporter": "python",
   "pygments_lexer": "ipython3",
   "version": "3.8.10"
  }
 },
 "nbformat": 4,
 "nbformat_minor": 5
}
