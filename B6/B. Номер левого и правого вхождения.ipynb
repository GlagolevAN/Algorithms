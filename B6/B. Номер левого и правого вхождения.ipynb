{
 "cells": [
  {
   "cell_type": "code",
   "execution_count": 31,
   "id": "332fff10",
   "metadata": {},
   "outputs": [
    {
     "name": "stdout",
     "output_type": "stream",
     "text": [
      "0 0\n",
      "9 9\n",
      "6 6\n",
      "0 0\n",
      "0 0\n",
      "9 9\n",
      "2 5\n",
      "0 0\n",
      "9 9\n",
      "0 0\n"
     ]
    }
   ],
   "source": [
    "def bin_search_l(a, left, right, value): # a[left] < value <= a[right]\n",
    "    while left < right:\n",
    "        mid = (left + right) // 2\n",
    "        if a[mid] >= value:\n",
    "            right = mid\n",
    "        else: \n",
    "            left = mid + 1\n",
    "    \n",
    "    if a[left] == value:\n",
    "        return left + 1\n",
    "    else:\n",
    "        return 0 \n",
    "    \n",
    "    \n",
    "def bin_search_r(a, left, right, value):   # a[left] <= value < a[right]\n",
    "    while left < right:\n",
    "        mid = (left + right + 1) // 2\n",
    "        if a[mid] <= value:\n",
    "            left = mid\n",
    "        else: \n",
    "            right = mid - 1\n",
    "\n",
    "    if a[left] == value:\n",
    "        return left + 1\n",
    "    else:\n",
    "        return 0\n",
    "    \n",
    "with open('input.txt', 'r') as fin:\n",
    "    n = int(fin.readline())\n",
    "    a = list(map(int, fin.readline().split()))\n",
    "    m = int(fin.readline())\n",
    "    b = list(map(int, fin.readline().split()))\n",
    "    \n",
    "    ans = []\n",
    "    for value in b:\n",
    "        #l, r = list(map(int, fin.readline().split()))\n",
    "        \n",
    "        ans.append(str(bin_search_l(a, 0, len(a) - 1, value)) + ' ' + str(bin_search_r(a, 0, len(a) - 1, value)))\n",
    "        #print(bin_search_r(a, r), bin_search_l(a, l))\n",
    "    print('\\n'.join(ans))"
   ]
  }
 ],
 "metadata": {
  "kernelspec": {
   "display_name": "Python 3 (ipykernel)",
   "language": "python",
   "name": "python3"
  },
  "language_info": {
   "codemirror_mode": {
    "name": "ipython",
    "version": 3
   },
   "file_extension": ".py",
   "mimetype": "text/x-python",
   "name": "python",
   "nbconvert_exporter": "python",
   "pygments_lexer": "ipython3",
   "version": "3.8.10"
  }
 },
 "nbformat": 4,
 "nbformat_minor": 5
}
