{
 "cells": [
  {
   "cell_type": "code",
   "execution_count": 11,
   "id": "332fff10",
   "metadata": {},
   "outputs": [
    {
     "name": "stdout",
     "output_type": "stream",
     "text": [
      "-0.9999979511121637\n"
     ]
    }
   ],
   "source": [
    "with open('cubroot.in', 'r') as fin:\n",
    "    a, b, c, d = list(map(float, fin.readline().split()))\n",
    "    def f(x): return a*x**3 + b*x**2 + c*x + d\n",
    "\n",
    "    l, r = -1.2e9, 1.2e9\n",
    "    if (f(r) < f(l)):\n",
    "        l, r = r, l #now f(l) < f(r)\n",
    "    m = l\n",
    "    while (abs(l - r) > 0.9999e-5):\n",
    "        m = (l + r) / 2\n",
    "        if (f(m) < 0):\n",
    "            l = m\n",
    "        else:\n",
    "            r = m\n",
    "    \n",
    "    print(m)"
   ]
  },
  {
   "cell_type": "code",
   "execution_count": null,
   "id": "f623f630",
   "metadata": {},
   "outputs": [],
   "source": []
  }
 ],
 "metadata": {
  "kernelspec": {
   "display_name": "Python 3 (ipykernel)",
   "language": "python",
   "name": "python3"
  },
  "language_info": {
   "codemirror_mode": {
    "name": "ipython",
    "version": 3
   },
   "file_extension": ".py",
   "mimetype": "text/x-python",
   "name": "python",
   "nbconvert_exporter": "python",
   "pygments_lexer": "ipython3",
   "version": "3.8.10"
  }
 },
 "nbformat": 4,
 "nbformat_minor": 5
}
