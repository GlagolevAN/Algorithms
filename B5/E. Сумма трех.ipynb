{
 "cells": [
  {
   "cell_type": "code",
   "execution_count": 13,
   "id": "332fff10",
   "metadata": {},
   "outputs": [
    {
     "name": "stdout",
     "output_type": "stream",
     "text": [
      "0 1 2\n"
     ]
    }
   ],
   "source": [
    "def enumandsort(arr, if_reversed = False):\n",
    "    for i in range(len(arr)):\n",
    "        arr[i] = arr[i], i\n",
    "    \n",
    "    if (if_reversed):\n",
    "        arr.sort(key = lambda x: (x[0], -x[1]))\n",
    "    else:\n",
    "        arr.sort()\n",
    "    return arr\n",
    "\n",
    "with open(\"threesum.in\", 'r', encoding = 'utf-8') as fin:\n",
    "    S = int(fin.readline().split()[0])\n",
    "    A = enumandsort(list(map(int, fin.readline().split()[1:])))\n",
    "    B = enumandsort(list(map(int, fin.readline().split()[1:])))\n",
    "    C = enumandsort(list(map(int, fin.readline().split()[1:])), if_reversed = True)\n",
    "    \n",
    "    if_found = False\n",
    "    \n",
    "    for aval, apos in A:\n",
    "        cpos = len(C) - 1\n",
    "        for bval, bpos in B:\n",
    "            while cpos > 0 and aval + bval + C[cpos][0] > S:\n",
    "                cpos -= 1\n",
    "            if aval + bval + C[cpos][0] == S and (not if_found or (apos, bpos, cpos) < ans):\n",
    "                ans = apos, bpos, C[cpos][1]\n",
    "                if_found = True\n",
    "                \n",
    "                \n",
    "    if if_found:\n",
    "        print(*ans)\n",
    "    else:\n",
    "        print(-1)"
   ]
  },
  {
   "cell_type": "code",
   "execution_count": null,
   "id": "dedbdd92",
   "metadata": {},
   "outputs": [],
   "source": []
  }
 ],
 "metadata": {
  "kernelspec": {
   "display_name": "Python 3 (ipykernel)",
   "language": "python",
   "name": "python3"
  },
  "language_info": {
   "codemirror_mode": {
    "name": "ipython",
    "version": 3
   },
   "file_extension": ".py",
   "mimetype": "text/x-python",
   "name": "python",
   "nbconvert_exporter": "python",
   "pygments_lexer": "ipython3",
   "version": "3.8.10"
  }
 },
 "nbformat": 4,
 "nbformat_minor": 5
}
