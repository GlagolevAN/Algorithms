{
 "cells": [
  {
   "cell_type": "code",
   "execution_count": 11,
   "id": "332fff10",
   "metadata": {},
   "outputs": [
    {
     "name": "stdout",
     "output_type": "stream",
     "text": [
      "9\n"
     ]
    }
   ],
   "source": [
    "with open('input.txt', 'r') as fin:\n",
    "    n = int(fin.readline())\n",
    "    arr = list(map(int, fin.readline().split()))\n",
    "    \n",
    "    max_summa = arr[0];\n",
    "    summa = 0;\n",
    "    min_sum = 0;\n",
    "    \n",
    "    for elem in arr:\n",
    "        summa += elem\n",
    "        max_summa = max(max_summa, summa - min_sum)\n",
    "        min_sum = min(min_sum, summa)\n",
    "    \n",
    "    print(max_summa)"
   ]
  },
  {
   "cell_type": "code",
   "execution_count": 10,
   "id": "cde0904e",
   "metadata": {},
   "outputs": [
    {
     "name": "stdout",
     "output_type": "stream",
     "text": [
      "McCain 10\n",
      "McCain 5\n",
      "Obama 9\n",
      "Obama 8\n",
      "McCain 1"
     ]
    }
   ],
   "source": [
    "with open('input.txt') as f:\n",
    "    for line in f:\n",
    "        print(line, end='')\n",
    "        \n",
    "    f.close()"
   ]
  }
 ],
 "metadata": {
  "kernelspec": {
   "display_name": "Python 3 (ipykernel)",
   "language": "python",
   "name": "python3"
  },
  "language_info": {
   "codemirror_mode": {
    "name": "ipython",
    "version": 3
   },
   "file_extension": ".py",
   "mimetype": "text/x-python",
   "name": "python",
   "nbconvert_exporter": "python",
   "pygments_lexer": "ipython3",
   "version": "3.8.10"
  }
 },
 "nbformat": 4,
 "nbformat_minor": 5
}
