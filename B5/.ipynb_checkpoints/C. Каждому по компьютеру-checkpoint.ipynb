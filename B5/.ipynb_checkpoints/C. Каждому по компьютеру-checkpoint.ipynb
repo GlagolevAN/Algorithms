{
 "cells": [
  {
   "cell_type": "code",
   "execution_count": 10,
   "id": "332fff10",
   "metadata": {},
   "outputs": [
    {
     "name": "stdout",
     "output_type": "stream",
     "text": [
      "0\n",
      "0\n"
     ]
    }
   ],
   "source": [
    "def enumandsort(arr):\n",
    "    for i in range(len(arr)):\n",
    "        arr[i] = arr[i], i + 1\n",
    "    \n",
    "    arr.sort()\n",
    "    \n",
    "    return arr\n",
    "\n",
    "with open('input.txt', 'r') as fin:\n",
    "    N, M = list(map(int, fin.readline().split()))\n",
    "    X = enumandsort(list(map(int, fin.readline().split())))\n",
    "    Y = enumandsort(list(map(int, fin.readline().split())))\n",
    "    \n",
    "    ynum = 0\n",
    "    cnt = 0\n",
    "    ans = [0] * (N + 1)\n",
    "    for pupils, xnum in X:\n",
    "        while ynum < len(Y) and Y[ynum][0] < pupils + 1:\n",
    "            ynum += 1\n",
    "        if ynum == len(Y):\n",
    "            break\n",
    "        ans[xnum] = Y[ynum][1]\n",
    "        ynum += 1\n",
    "        cnt += 1\n",
    "\n",
    "    print(cnt)\n",
    "    print(*ans[1:])"
   ]
  },
  {
   "cell_type": "code",
   "execution_count": null,
   "id": "f623f630",
   "metadata": {},
   "outputs": [],
   "source": []
  }
 ],
 "metadata": {
  "kernelspec": {
   "display_name": "Python 3 (ipykernel)",
   "language": "python",
   "name": "python3"
  },
  "language_info": {
   "codemirror_mode": {
    "name": "ipython",
    "version": 3
   },
   "file_extension": ".py",
   "mimetype": "text/x-python",
   "name": "python",
   "nbconvert_exporter": "python",
   "pygments_lexer": "ipython3",
   "version": "3.8.10"
  }
 },
 "nbformat": 4,
 "nbformat_minor": 5
}
