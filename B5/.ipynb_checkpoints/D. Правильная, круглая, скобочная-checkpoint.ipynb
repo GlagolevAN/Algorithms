{
 "cells": [
  {
   "cell_type": "code",
   "execution_count": 22,
   "id": "332fff10",
   "metadata": {},
   "outputs": [
    {
     "name": "stdout",
     "output_type": "stream",
     "text": [
      "0\n",
      "YES\n"
     ]
    }
   ],
   "source": [
    "def if_correct(seq):\n",
    "    balance = 0\n",
    "    for elem in seq:\n",
    "        if (elem == '('):\n",
    "            balance += 1\n",
    "        else:\n",
    "            balance -= 1\n",
    "        \n",
    "        if (balance < 0):\n",
    "            print('NO')\n",
    "            return\n",
    "    \n",
    "    if (balance != 0):\n",
    "        print('NO')\n",
    "    else:\n",
    "        print('YES')\n",
    "\n",
    "with open('input.txt', 'r') as fin:\n",
    "    seq = fin.readline()\n",
    "    \n",
    "    if_correct(seq.rstrip())\n"
   ]
  },
  {
   "cell_type": "code",
   "execution_count": null,
   "id": "cde0904e",
   "metadata": {},
   "outputs": [],
   "source": []
  }
 ],
 "metadata": {
  "kernelspec": {
   "display_name": "Python 3 (ipykernel)",
   "language": "python",
   "name": "python3"
  },
  "language_info": {
   "codemirror_mode": {
    "name": "ipython",
    "version": 3
   },
   "file_extension": ".py",
   "mimetype": "text/x-python",
   "name": "python",
   "nbconvert_exporter": "python",
   "pygments_lexer": "ipython3",
   "version": "3.8.10"
  }
 },
 "nbformat": 4,
 "nbformat_minor": 5
}
