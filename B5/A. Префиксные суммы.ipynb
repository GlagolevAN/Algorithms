{
 "cells": [
  {
   "cell_type": "code",
   "execution_count": 10,
   "id": "3823b2c0",
   "metadata": {},
   "outputs": [
    {
     "name": "stdout",
     "output_type": "stream",
     "text": [
      "1\n",
      "3\n",
      "6\n",
      "10\n",
      "2\n",
      "5\n",
      "9\n",
      "3\n",
      "7\n",
      "4\n"
     ]
    }
   ],
   "source": [
    "def nums_on_interval(array, prefix, l, r):\n",
    "    return prefix[r] - prefix[l-1] #+ array[r-1]\n",
    "\n",
    "with open('input.txt', 'r') as fin:\n",
    "    line = fin.readline().split()\n",
    "    n, q = int(line[0]), int(line[1])\n",
    "    array = list(map(int, fin.readline().split()))\n",
    "    prefix = [0] * (n+2)\n",
    "    for i in range(1, n+1):\n",
    "        prefix[i] = prefix[i-1] + array[i-1]\n",
    "\n",
    "    for _ in range(q):\n",
    "        line = fin.readline().split()\n",
    "        l, r = int(line[0]), int(line[1])\n",
    "        print(nums_on_interval(array, prefix, l ,r))"
   ]
  },
  {
   "cell_type": "code",
   "execution_count": 7,
   "id": "cde0904e",
   "metadata": {},
   "outputs": [
    {
     "name": "stdout",
     "output_type": "stream",
     "text": [
      "[0, 1, 3, 6, 10, 10]\n"
     ]
    }
   ],
   "source": [
    "print(prefix)"
   ]
  }
 ],
 "metadata": {
  "kernelspec": {
   "display_name": "Python 3 (ipykernel)",
   "language": "python",
   "name": "python3"
  },
  "language_info": {
   "codemirror_mode": {
    "name": "ipython",
    "version": 3
   },
   "file_extension": ".py",
   "mimetype": "text/x-python",
   "name": "python",
   "nbconvert_exporter": "python",
   "pygments_lexer": "ipython3",
   "version": "3.8.10"
  }
 },
 "nbformat": 4,
 "nbformat_minor": 5
}
