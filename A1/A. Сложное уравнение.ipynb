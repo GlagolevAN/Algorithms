{
 "cells": [
  {
   "cell_type": "code",
   "execution_count": 30,
   "id": "3823b2c0",
   "metadata": {},
   "outputs": [
    {
     "name": "stdout",
     "output_type": "stream",
     "text": [
      "1\n",
      "1\n",
      "2\n",
      "2\n",
      "NO\n"
     ]
    }
   ],
   "source": [
    "#import numpy as np\n",
    "\n",
    "a = int(input())\n",
    "b = int(input())\n",
    "c = int(input())\n",
    "d = int(input())\n",
    "\n",
    "def solve(a, b, c, d):\n",
    "    if (a == 0):\n",
    "        if (b == 0):\n",
    "            print('INF')\n",
    "            return 0\n",
    "        print('NO')\n",
    "        return 0\n",
    "\n",
    "    x = -b / a\n",
    "    #print(x); print(np.round(x))\n",
    "    if (abs(x - round(x, 0)) < 1e-6):\n",
    "        if (abs(c * x + d) < 1e-6):\n",
    "            print('NO')\n",
    "        else:\n",
    "            print(int(round(x, 0)))\n",
    "    else:\n",
    "        print('NO')\n",
    "\n",
    "        \n",
    "        \n",
    "solve(a,b,c,d)"
   ]
  },
  {
   "cell_type": "code",
   "execution_count": 15,
   "id": "cde0904e",
   "metadata": {},
   "outputs": [
    {
     "name": "stdout",
     "output_type": "stream",
     "text": [
      "-0.12000000000000455\n"
     ]
    },
    {
     "data": {
      "text/plain": [
       "-101"
      ]
     },
     "execution_count": 15,
     "metadata": {},
     "output_type": "execute_result"
    }
   ],
   "source": [
    "x  = 100.88\n",
    "\n",
    "print(x - np.round(x, 0))\n",
    "\n",
    "int(-np.round(x,0))"
   ]
  }
 ],
 "metadata": {
  "kernelspec": {
   "display_name": "Python 3",
   "language": "python",
   "name": "python3"
  },
  "language_info": {
   "codemirror_mode": {
    "name": "ipython",
    "version": 3
   },
   "file_extension": ".py",
   "mimetype": "text/x-python",
   "name": "python",
   "nbconvert_exporter": "python",
   "pygments_lexer": "ipython3",
   "version": "3.8.10"
  }
 },
 "nbformat": 4,
 "nbformat_minor": 5
}
