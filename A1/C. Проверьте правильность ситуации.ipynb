{
 "cells": [
  {
   "cell_type": "code",
   "execution_count": 12,
   "id": "332fff10",
   "metadata": {},
   "outputs": [],
   "source": [
    "with open('input.txt', 'r') as f:\n",
    "    board = [[int(num) for num in line.split()] for line in f]\n",
    "\n",
    "#проверка на выигрыш\n",
    "def solve():\n",
    "    first_won, second_won = 0, 0\n",
    "\n",
    "    for i in range(3):\n",
    "        if (board[i][0] == 1 and board[i][1] == 1 and board[i][2] == 1):\n",
    "            first_won += 1;\n",
    "        if (board[0][i] == 1 and board[1][i] == 1 and board[2][i] == 1):\n",
    "            first_won += 1;\n",
    "        if (board[i][0] == 2 and board[i][1] == 2 and board[i][2] == 2):\n",
    "            second_won += 1;\n",
    "        if (board[0][i] == 2 and board[1][i] == 2 and board[2][i] == 2):\n",
    "            second_won += 1;       \n",
    "\n",
    "    if (board[0][0] == 1 and board[1][1] == 1 and board[2][2] == 1):\n",
    "        first_won += 1;\n",
    "    if (board[0][0] == 2 and board[1][1] == 2 and board[2][2] == 2):\n",
    "        second_won += 1;\n",
    "        \n",
    "    if (board[0][2] == 1 and board[1][1] == 1 and board[2][0] == 1):\n",
    "        first_won += 1;\n",
    "    if (board[0][2] == 2 and board[1][1] == 2 and board[2][0] == 2):\n",
    "        second_won += 1;\n",
    "        \n",
    "    if (first_won > 0 and second_won > 0):\n",
    "            print('NO'); return;\n",
    "    if (first_won > 2 or second_won > 2):\n",
    "            print('NO'); return;\n",
    "        \n",
    "    #проверка на число крестиков-ноликов\n",
    "    counter_f, counter_s = 0, 0;\n",
    "\n",
    "    for row in board:\n",
    "        for elem in row:\n",
    "            if (elem == 1):\n",
    "                counter_f += 1;\n",
    "            if (elem == 2):\n",
    "                counter_s += 1;\n",
    "\n",
    "\n",
    "    \n",
    "    if (counter_f - counter_s == 1):\n",
    "        if (second_won > 0):\n",
    "            print('NO'); return\n",
    "        print('YES'); return\n",
    "\n",
    "    if (counter_f - counter_s == 0):\n",
    "        if (first_won > 0):\n",
    "            print('NO'); return\n",
    "        print('YES'); return    \n",
    "    \n",
    "    print('NO')\n",
    "    \n",
    "solve()"
   ]
  },
  {
   "cell_type": "code",
   "execution_count": 12,
   "id": "cde0904e",
   "metadata": {},
   "outputs": [
    {
     "data": {
      "text/plain": [
       "int"
      ]
     },
     "execution_count": 12,
     "metadata": {},
     "output_type": "execute_result"
    }
   ],
   "source": [
    "type(P % 3)"
   ]
  }
 ],
 "metadata": {
  "kernelspec": {
   "display_name": "Python 3",
   "language": "python",
   "name": "python3"
  },
  "language_info": {
   "codemirror_mode": {
    "name": "ipython",
    "version": 3
   },
   "file_extension": ".py",
   "mimetype": "text/x-python",
   "name": "python",
   "nbconvert_exporter": "python",
   "pygments_lexer": "ipython3",
   "version": "3.8.10"
  }
 },
 "nbformat": 4,
 "nbformat_minor": 5
}
