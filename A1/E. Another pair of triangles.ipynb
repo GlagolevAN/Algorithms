{
 "cells": [
  {
   "cell_type": "code",
   "execution_count": 4,
   "id": "332fff10",
   "metadata": {},
   "outputs": [
    {
     "name": "stdout",
     "output_type": "stream",
     "text": [
      "8\n",
      "2 3 3\n",
      "2 3 3\n"
     ]
    }
   ],
   "source": [
    "P = int(input())\n",
    "\n",
    "def solve(P):\n",
    "    if (P == 4):\n",
    "        print(-1)\n",
    "        return\n",
    "    if (P == 8):\n",
    "        print(2, 3, 3)\n",
    "        print(2, 3, 3)\n",
    "        return\n",
    "    #MAX\n",
    "    n = P // 3\n",
    "    res3 = P % 3\n",
    "    if (res3 == 0):\n",
    "        print(n, n, n)\n",
    "    elif (res3 == 1):\n",
    "        print(n, n, n + 1)\n",
    "    else:\n",
    "        print(n, n + 1, n + 1)\n",
    "    #----------------------\n",
    "    #MIN\n",
    "    m = P // 4\n",
    "    res4 = P % 4\n",
    "    if (res4 == 0):\n",
    "        print(m, m + 1, 2 * m - 1)\n",
    "        return \n",
    "    if (res4 == 1):\n",
    "        print(m, m + 1, 2 * m)\n",
    "        return\n",
    "    if (res4 == 2):\n",
    "        print(m, m + 2, 2 * m)\n",
    "        return\n",
    "    if (res4 == 3):\n",
    "        print(m + 1, m + 1, 2 * m + 1)\n",
    "        \n",
    "    return\n",
    "\n",
    "solve(P)"
   ]
  },
  {
   "cell_type": "code",
   "execution_count": 2,
   "id": "cde0904e",
   "metadata": {},
   "outputs": [],
   "source": [
    "#type(P % 3)"
   ]
  }
 ],
 "metadata": {
  "kernelspec": {
   "display_name": "Python 3",
   "language": "python",
   "name": "python3"
  },
  "language_info": {
   "codemirror_mode": {
    "name": "ipython",
    "version": 3
   },
   "file_extension": ".py",
   "mimetype": "text/x-python",
   "name": "python",
   "nbconvert_exporter": "python",
   "pygments_lexer": "ipython3",
   "version": "3.8.10"
  }
 },
 "nbformat": 4,
 "nbformat_minor": 5
}
