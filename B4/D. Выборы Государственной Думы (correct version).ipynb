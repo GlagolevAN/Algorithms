{
 "cells": [
  {
   "cell_type": "code",
   "execution_count": 4,
   "id": "332fff10",
   "metadata": {},
   "outputs": [
    {
     "name": "stdout",
     "output_type": "stream",
     "text": [
      "1.0\n",
      "Party One 64\n",
      "Party Two 129\n",
      "Party Three 257\n"
     ]
    }
   ],
   "source": [
    "with open('input.txt', 'r') as fin:\n",
    "    parties = []\n",
    "    sumcnt = 0; i = 0\n",
    "    for line in fin:\n",
    "        words = line.split()\n",
    "        cnt = int(words[-1])\n",
    "        party_name = ' '.join(words[:-1])\n",
    "        parties.append([party_name, cnt, i])\n",
    "        sumcnt += cnt\n",
    "        i += 1\n",
    "\n",
    "    f = sumcnt / 450        \n",
    "    free = 450 \n",
    "    for i in range(len(parties)):\n",
    "        party = parties[i]\n",
    "        party.append(party[1] // f)\n",
    "        party.append(party[1] % f)\n",
    "        free -= party[1] // f\n",
    "\n",
    "    parties.sort(key = lambda x: x[4], reverse = True)\n",
    "    for i in range(int(free)):\n",
    "        parties[i][3] += 1\n",
    "\n",
    "    parties.sort(key = lambda x: x[2])\n",
    "    for party in parties:\n",
    "        print(party[0], int(party[3]))"
   ]
  },
  {
   "cell_type": "code",
   "execution_count": 2,
   "id": "cde0904e",
   "metadata": {},
   "outputs": [
    {
     "name": "stdout",
     "output_type": "stream",
     "text": [
      "[['Party One', 100000, 0, 64.0, 444.444444444438], ['Party Two', 200000, 1, 128.0, 888.888888888876], ['Party Three', 400000, 2, 257.0, 222.22222222219625]]\n"
     ]
    }
   ],
   "source": [
    "print(parties)"
   ]
  }
 ],
 "metadata": {
  "kernelspec": {
   "display_name": "Python 3 (ipykernel)",
   "language": "python",
   "name": "python3"
  },
  "language_info": {
   "codemirror_mode": {
    "name": "ipython",
    "version": 3
   },
   "file_extension": ".py",
   "mimetype": "text/x-python",
   "name": "python",
   "nbconvert_exporter": "python",
   "pygments_lexer": "ipython3",
   "version": "3.8.10"
  }
 },
 "nbformat": 4,
 "nbformat_minor": 5
}
