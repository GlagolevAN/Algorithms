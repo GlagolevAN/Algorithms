{
 "cells": [
  {
   "cell_type": "code",
   "execution_count": 5,
   "id": "332fff10",
   "metadata": {},
   "outputs": [
    {
     "name": "stdout",
     "output_type": "stream",
     "text": [
      "1\n",
      "Party One 64\n",
      "Party Two 128\n",
      "Party Three 257\n"
     ]
    }
   ],
   "source": [
    "def output(my_dict, order_list):\n",
    "    for key in order_list:\n",
    "        print(key, my_dict[key])\n",
    "\n",
    "        \n",
    "def calculate(my_dict, summa):\n",
    "    ans, fracs = {}, {}; \n",
    "    action_number = 450; \n",
    "    for key in my_dict.keys():\n",
    "        ans[key] = my_dict[key] * 450 // summa\n",
    "        action_number -= ans[key]\n",
    "    \n",
    "    for _ in range(action_number):\n",
    "        maximum = 0;\n",
    "        print(action_number)\n",
    "        for key in my_dict:\n",
    "            if my_dict[key] > maximum:\n",
    "                maximum = my_dict[key]\n",
    "                max_pos = key\n",
    "        \n",
    "        #плюсануть\n",
    "        #ans[max_pos] += 1\n",
    "        my_dict.pop(max_pos)    \n",
    "    \n",
    "    return ans;\n",
    "\n",
    "\n",
    "with open('input.txt', 'r') as fin:\n",
    "    my_dict, summa = {}, 0\n",
    "    order_list = [];\n",
    "    golosa, residues = {}, {}\n",
    "    for line in fin:\n",
    "        splitted = line.split()\n",
    "        if (not splitted):\n",
    "            break;\n",
    "            \n",
    "        value = int(splitted[-1])\n",
    "        key = line[:-2 - len(splitted[-1])]\n",
    "        if key not in my_dict:\n",
    "            my_dict[key] = 0\n",
    "            order_list.append(key)\n",
    "        my_dict[key] += value\n",
    "        summa += value\n",
    "    output(calculate(my_dict, summa), order_list)"
   ]
  },
  {
   "cell_type": "code",
   "execution_count": null,
   "id": "cde0904e",
   "metadata": {},
   "outputs": [],
   "source": []
  }
 ],
 "metadata": {
  "kernelspec": {
   "display_name": "Python 3 (ipykernel)",
   "language": "python",
   "name": "python3"
  },
  "language_info": {
   "codemirror_mode": {
    "name": "ipython",
    "version": 3
   },
   "file_extension": ".py",
   "mimetype": "text/x-python",
   "name": "python",
   "nbconvert_exporter": "python",
   "pygments_lexer": "ipython3",
   "version": "3.8.10"
  }
 },
 "nbformat": 4,
 "nbformat_minor": 5
}
