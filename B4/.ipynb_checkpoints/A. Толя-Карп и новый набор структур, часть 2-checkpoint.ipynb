{
 "cells": [
  {
   "cell_type": "code",
   "execution_count": 17,
   "id": "3823b2c0",
   "metadata": {},
   "outputs": [
    {
     "name": "stdout",
     "output_type": "stream",
     "text": [
      "-5 -200000000000\n",
      "0 10000000000000\n",
      "5 -10000\n",
      "10 2000000000000\n"
     ]
    }
   ],
   "source": [
    "def output(my_dict):\n",
    "    ans = []\n",
    "    for key in sorted(my_dict.keys()):\n",
    "        print(key, my_dict[key])\n",
    "        \n",
    "with open('input.txt', 'r') as fin:\n",
    "    m = int(fin.readline())\n",
    "    my_dict = {}\n",
    "    for _ in range(m):\n",
    "        key, value = map(int, fin.readline().split())\n",
    "        if key not in my_dict:\n",
    "            my_dict[key] = value\n",
    "        else my_dict[key] += value\n",
    "\n",
    "    output(my_dict)"
   ]
  },
  {
   "cell_type": "code",
   "execution_count": 15,
   "id": "cde0904e",
   "metadata": {},
   "outputs": [
    {
     "name": "stdout",
     "output_type": "stream",
     "text": [
      "-0.12000000000000455\n"
     ]
    },
    {
     "data": {
      "text/plain": [
       "-101"
      ]
     },
     "execution_count": 15,
     "metadata": {},
     "output_type": "execute_result"
    }
   ],
   "source": []
  }
 ],
 "metadata": {
  "kernelspec": {
   "display_name": "Python 3",
   "language": "python",
   "name": "python3"
  },
  "language_info": {
   "codemirror_mode": {
    "name": "ipython",
    "version": 3
   },
   "file_extension": ".py",
   "mimetype": "text/x-python",
   "name": "python",
   "nbconvert_exporter": "python",
   "pygments_lexer": "ipython3",
   "version": "3.8.10"
  }
 },
 "nbformat": 4,
 "nbformat_minor": 5
}
