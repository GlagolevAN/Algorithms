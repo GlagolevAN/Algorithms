{
 "cells": [
  {
   "cell_type": "code",
   "execution_count": 20,
   "id": "332fff10",
   "metadata": {},
   "outputs": [
    {
     "name": "stdout",
     "output_type": "stream",
     "text": [
      "ai\n"
     ]
    }
   ],
   "source": [
    "def output(lst_tuples):\n",
    "    for elem in lst_tuples:\n",
    "        print(elem[1])\n",
    "        \n",
    "def dic_to_list(my_dict):\n",
    "    ans = []\n",
    "    for key in my_dict.keys():\n",
    "        ans.append((my_dict[key], key))\n",
    "    \n",
    "    return sorted(ans)\n",
    "        \n",
    "with open('input.txt', 'r') as fin:\n",
    "    my_dict = {}\n",
    "    for line in fin:\n",
    "        splitted = line.split()\n",
    "        if (not splitted):\n",
    "            break;\n",
    "            \n",
    "        for word in splitted:\n",
    "            if word not in my_dict:\n",
    "                my_dict[word] = 0\n",
    "            my_dict[word] -= 1\n",
    "\n",
    "    #print(my_dict)\n",
    "    \n",
    "    \n",
    "    output(dic_to_list(my_dict))"
   ]
  },
  {
   "cell_type": "code",
   "execution_count": 12,
   "id": "cde0904e",
   "metadata": {},
   "outputs": [
    {
     "data": {
      "text/plain": [
       "int"
      ]
     },
     "execution_count": 12,
     "metadata": {},
     "output_type": "execute_result"
    }
   ],
   "source": [
    "type(P % 3)"
   ]
  }
 ],
 "metadata": {
  "kernelspec": {
   "display_name": "Python 3 (ipykernel)",
   "language": "python",
   "name": "python3"
  },
  "language_info": {
   "codemirror_mode": {
    "name": "ipython",
    "version": 3
   },
   "file_extension": ".py",
   "mimetype": "text/x-python",
   "name": "python",
   "nbconvert_exporter": "python",
   "pygments_lexer": "ipython3",
   "version": "3.8.10"
  }
 },
 "nbformat": 4,
 "nbformat_minor": 5
}
