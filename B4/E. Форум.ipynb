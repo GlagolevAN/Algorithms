{
 "cells": [
  {
   "cell_type": "code",
   "execution_count": 24,
   "id": "332fff10",
   "metadata": {},
   "outputs": [
    {
     "name": "stdout",
     "output_type": "stream",
     "text": [
      "Олимпиада по информатике\n",
      "\n"
     ]
    }
   ],
   "source": [
    "with open(\"input.txt\", 'r', encoding = 'utf-8') as fin:\n",
    "    N = int(fin.readline().split()[0])\n",
    "    reply = [0] * N\n",
    "    topics = [''] * N\n",
    "    for i in range(N):\n",
    "        num = int(fin.readline())\n",
    "        if num == 0:\n",
    "            reply[i] = i\n",
    "            topics[i] = fin.readline()\n",
    "        else:\n",
    "            reply[i] = reply[num-1]\n",
    "            \n",
    "        fin.readline()\n",
    "\n",
    "cntreplies = {}\n",
    "for rep in reply:\n",
    "    cntreplies[rep] = cntreplies.get(rep, 0) + 1\n",
    "    \n",
    "ans = []\n",
    "for topic in cntreplies:\n",
    "    ans.append((-cntreplies[topic], topic))\n",
    "    \n",
    "print(topics[min(ans)[1]])"
   ]
  },
  {
   "cell_type": "code",
   "execution_count": 17,
   "id": "cde0904e",
   "metadata": {},
   "outputs": [
    {
     "data": {
      "text/plain": [
       "[0, 1, 0, 0, 1, 0, 0]"
      ]
     },
     "execution_count": 17,
     "metadata": {},
     "output_type": "execute_result"
    }
   ],
   "source": [
    "reply"
   ]
  },
  {
   "cell_type": "code",
   "execution_count": null,
   "id": "dedbdd92",
   "metadata": {},
   "outputs": [],
   "source": []
  }
 ],
 "metadata": {
  "kernelspec": {
   "display_name": "Python 3 (ipykernel)",
   "language": "python",
   "name": "python3"
  },
  "language_info": {
   "codemirror_mode": {
    "name": "ipython",
    "version": 3
   },
   "file_extension": ".py",
   "mimetype": "text/x-python",
   "name": "python",
   "nbconvert_exporter": "python",
   "pygments_lexer": "ipython3",
   "version": "3.8.10"
  }
 },
 "nbformat": 4,
 "nbformat_minor": 5
}
