{
 "cells": [
  {
   "cell_type": "code",
   "execution_count": 30,
   "id": "332fff10",
   "metadata": {},
   "outputs": [
    {
     "name": "stdout",
     "output_type": "stream",
     "text": [
      "1 15\n",
      "10 -5\n",
      "4 2\n",
      "7 5\n"
     ]
    }
   ],
   "source": [
    "def output(my_dict):\n",
    "    for key in sorted(my_dict.keys()):\n",
    "        print(key, my_dict[key])\n",
    "        \n",
    "with open('input.txt', 'r') as fin:\n",
    "    my_dict = {}\n",
    "    for line in fin:\n",
    "        splitted = line.split()\n",
    "\n",
    "        if (not splitted):\n",
    "            break;\n",
    "        key, value = splitted[0], int(splitted[1])\n",
    "\n",
    "        if key not in my_dict:\n",
    "            my_dict[key] = 0\n",
    "        my_dict[key] += value\n",
    "\n",
    "    output(my_dict)"
   ]
  },
  {
   "cell_type": "code",
   "execution_count": 10,
   "id": "cde0904e",
   "metadata": {},
   "outputs": [
    {
     "name": "stdout",
     "output_type": "stream",
     "text": [
      "McCain 10\n",
      "McCain 5\n",
      "Obama 9\n",
      "Obama 8\n",
      "McCain 1"
     ]
    }
   ],
   "source": [
    "with open('input.txt') as f:\n",
    "    for line in f:\n",
    "        print(line, end='')\n",
    "        \n",
    "    f.close()"
   ]
  }
 ],
 "metadata": {
  "kernelspec": {
   "display_name": "Python 3",
   "language": "python",
   "name": "python3"
  },
  "language_info": {
   "codemirror_mode": {
    "name": "ipython",
    "version": 3
   },
   "file_extension": ".py",
   "mimetype": "text/x-python",
   "name": "python",
   "nbconvert_exporter": "python",
   "pygments_lexer": "ipython3",
   "version": "3.8.10"
  }
 },
 "nbformat": 4,
 "nbformat_minor": 5
}
