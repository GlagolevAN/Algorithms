{
 "cells": [
  {
   "cell_type": "code",
   "execution_count": 6,
   "id": "332fff10",
   "metadata": {},
   "outputs": [
    {
     "name": "stdout",
     "output_type": "stream",
     "text": [
      "{1, 2, 3, 4, 5}\n"
     ]
    }
   ],
   "source": [
    "with open('input.txt', 'r') as fin:\n",
    "    line = fin.readline()\n",
    "    \n",
    "    \n",
    "my_set = set()\n",
    "for char in line.split():\n",
    "    if (char in my_set):\n",
    "        print('YES')\n",
    "    else:\n",
    "        print('NO')\n",
    "        my_set.add(char)"
   ]
  },
  {
   "cell_type": "code",
   "execution_count": 15,
   "id": "cde0904e",
   "metadata": {},
   "outputs": [
    {
     "name": "stdout",
     "output_type": "stream",
     "text": [
      "-0.12000000000000455\n"
     ]
    },
    {
     "data": {
      "text/plain": [
       "-101"
      ]
     },
     "execution_count": 15,
     "metadata": {},
     "output_type": "execute_result"
    }
   ],
   "source": [
    "x  = 100.88\n",
    "\n",
    "print(x - round(x, 0))\n",
    "\n",
    "int(-round(x,0))"
   ]
  }
 ],
 "metadata": {
  "kernelspec": {
   "display_name": "Python 3",
   "language": "python",
   "name": "python3"
  },
  "language_info": {
   "codemirror_mode": {
    "name": "ipython",
    "version": 3
   },
   "file_extension": ".py",
   "mimetype": "text/x-python",
   "name": "python",
   "nbconvert_exporter": "python",
   "pygments_lexer": "ipython3",
   "version": "3.8.10"
  }
 },
 "nbformat": 4,
 "nbformat_minor": 5
}
