{
 "cells": [
  {
   "cell_type": "code",
   "execution_count": 6,
   "id": "3823b2c0",
   "metadata": {},
   "outputs": [
    {
     "name": "stdout",
     "output_type": "stream",
     "text": [
      "5\n"
     ]
    }
   ],
   "source": [
    "with open('input.txt', 'r') as fin:\n",
    "    line1 = fin.readline()\n",
    "    line2 = fin.readline()\n",
    "\n",
    "print(len(set(map(int, line1.split())) & set(map(int, line2.split()))))"
   ]
  },
  {
   "cell_type": "code",
   "execution_count": 15,
   "id": "cde0904e",
   "metadata": {},
   "outputs": [
    {
     "name": "stdout",
     "output_type": "stream",
     "text": [
      "-0.12000000000000455\n"
     ]
    },
    {
     "data": {
      "text/plain": [
       "-101"
      ]
     },
     "execution_count": 15,
     "metadata": {},
     "output_type": "execute_result"
    }
   ],
   "source": [
    "my_set = set(range(1, n + 1))\n",
    "\n",
    "breaker = 0; i = 0;\n",
    "while (i < len(lines)):\n",
    "    if (lines[i] == 'HELP' or lines[i] == 'HELP\\n'):\n",
    "        break\n",
    "    if (lines[i + 1] == 'NO\\n'):\n",
    "        for elem in list(map(int, lines[i].split())):\n",
    "            my_set.discard(elem)\n",
    "        \n",
    "    else:\n",
    "        my_set = my_set & set(list(map(int, lines[i].split())))\n",
    "    i += 2\n",
    "print(' '.join(map(str, my_set)))"
   ]
  }
 ],
 "metadata": {
  "kernelspec": {
   "display_name": "Python 3",
   "language": "python",
   "name": "python3"
  },
  "language_info": {
   "codemirror_mode": {
    "name": "ipython",
    "version": 3
   },
   "file_extension": ".py",
   "mimetype": "text/x-python",
   "name": "python",
   "nbconvert_exporter": "python",
   "pygments_lexer": "ipython3",
   "version": "3.8.10"
  }
 },
 "nbformat": 4,
 "nbformat_minor": 5
}
