{
 "cells": [
  {
   "cell_type": "code",
   "execution_count": 63,
   "id": "332fff10",
   "metadata": {},
   "outputs": [
    {
     "name": "stdout",
     "output_type": "stream",
     "text": [
      "1 3 5\n"
     ]
    }
   ],
   "source": [
    "with open('input.txt', 'r') as fin:\n",
    "    n = int(fin.readline()) # число из первой строки\n",
    "    lines = fin.readlines() # все остальные строки\n",
    "\n",
    "    \n",
    "    \n",
    "my_set = set(range(1, n + 1))\n",
    "\n",
    "i = 0;\n",
    "while (i < len(lines)):\n",
    "    if (lines[i] == 'HELP' or lines[i] == 'HELP\\n'):\n",
    "        break\n",
    "    if (lines[i + 1] == 'NO\\n'):\n",
    "        for elem in list(map(int, lines[i].split())):\n",
    "            my_set.discard(elem)\n",
    "        \n",
    "    else:\n",
    "        my_set = my_set & set(list(map(int, lines[i].split())))\n",
    "    i += 2\n",
    "print(' '.join(map(str, my_set)))"
   ]
  },
  {
   "cell_type": "code",
   "execution_count": 41,
   "id": "cde0904e",
   "metadata": {},
   "outputs": [
    {
     "data": {
      "text/plain": [
       "['1 2 3 4 5\\n', 'YES\\n', '2 4 6 8 10\\n', 'NO\\n', 'HELP']"
      ]
     },
     "execution_count": 41,
     "metadata": {},
     "output_type": "execute_result"
    }
   ],
   "source": [
    "lines"
   ]
  }
 ],
 "metadata": {
  "kernelspec": {
   "display_name": "Python 3",
   "language": "python",
   "name": "python3"
  },
  "language_info": {
   "codemirror_mode": {
    "name": "ipython",
    "version": 3
   },
   "file_extension": ".py",
   "mimetype": "text/x-python",
   "name": "python",
   "nbconvert_exporter": "python",
   "pygments_lexer": "ipython3",
   "version": "3.8.10"
  }
 },
 "nbformat": 4,
 "nbformat_minor": 5
}
