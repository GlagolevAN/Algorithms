{
 "cells": [
  {
   "cell_type": "code",
   "execution_count": 10,
   "id": "332fff10",
   "metadata": {},
   "outputs": [
    {
     "name": "stdout",
     "output_type": "stream",
     "text": [
      "1\n"
     ]
    }
   ],
   "source": [
    "with open('input.txt', 'r') as fin:\n",
    "    line = list(map(int, fin.readline().split()))\n",
    "    \n",
    "full_alph = set(line)\n",
    "one_time = full_alph.copy()\n",
    "\n",
    "for elem in line:\n",
    "    if (elem in full_alph):\n",
    "        full_alph.discard(elem)\n",
    "    else:\n",
    "        one_time.discard(elem)\n",
    "        \n",
    "answer = []\n",
    "for elem in line:\n",
    "    if (elem in one_time):\n",
    "        answer.append(elem)\n",
    "        one_time.discard(elem)\n",
    "        \n",
    "print(' '.join(map(str, answer)))"
   ]
  },
  {
   "cell_type": "code",
   "execution_count": 12,
   "id": "cde0904e",
   "metadata": {},
   "outputs": [
    {
     "data": {
      "text/plain": [
       "int"
      ]
     },
     "execution_count": 12,
     "metadata": {},
     "output_type": "execute_result"
    }
   ],
   "source": [
    "type(P % 3)"
   ]
  }
 ],
 "metadata": {
  "kernelspec": {
   "display_name": "Python 3",
   "language": "python",
   "name": "python3"
  },
  "language_info": {
   "codemirror_mode": {
    "name": "ipython",
    "version": 3
   },
   "file_extension": ".py",
   "mimetype": "text/x-python",
   "name": "python",
   "nbconvert_exporter": "python",
   "pygments_lexer": "ipython3",
   "version": "3.8.10"
  }
 },
 "nbformat": 4,
 "nbformat_minor": 5
}
