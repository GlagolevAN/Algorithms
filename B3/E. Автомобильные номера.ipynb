{
 "cells": [
  {
   "cell_type": "code",
   "execution_count": 30,
   "id": "332fff10",
   "metadata": {},
   "outputs": [
    {
     "name": "stdout",
     "output_type": "stream",
     "text": [
      "B137AC\n"
     ]
    }
   ],
   "source": [
    "with open(\"input.txt\", 'r') as fin:\n",
    "    M = int(fin.readline().split()[0])\n",
    "    witness = []; plates = [];\n",
    "    for _ in range(M):\n",
    "        witness.append(set(fin.readline()[:-1]))\n",
    "    N = int(fin.readline().split()[0])\n",
    "    for _ in range(N):\n",
    "        plates.append((fin.readline()[:-1]))\n",
    "    \n",
    "plates_value = [0] * N\n",
    "for i in range(N):\n",
    "    for elem in witness:\n",
    "        if (elem.issubset(set(plates[i]))):\n",
    "            plates_value[i] += 1\n",
    "\n",
    "max_val = max(plates_value)\n",
    "for i in range(N):\n",
    "    if (plates_value[i] == max_val):\n",
    "        print(plates[i])"
   ]
  },
  {
   "cell_type": "code",
   "execution_count": 19,
   "id": "cde0904e",
   "metadata": {},
   "outputs": [
    {
     "data": {
      "text/plain": [
       "[{'A', 'B', 'C'}, {'3', '7', 'A'}, {'A', 'B', 'C', 'D'}]"
      ]
     },
     "execution_count": 19,
     "metadata": {},
     "output_type": "execute_result"
    }
   ],
   "source": [
    "witness"
   ]
  }
 ],
 "metadata": {
  "kernelspec": {
   "display_name": "Python 3 (ipykernel)",
   "language": "python",
   "name": "python3"
  },
  "language_info": {
   "codemirror_mode": {
    "name": "ipython",
    "version": 3
   },
   "file_extension": ".py",
   "mimetype": "text/x-python",
   "name": "python",
   "nbconvert_exporter": "python",
   "pygments_lexer": "ipython3",
   "version": "3.8.10"
  }
 },
 "nbformat": 4,
 "nbformat_minor": 5
}
